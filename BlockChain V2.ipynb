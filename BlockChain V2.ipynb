{
 "cells": [
  {
   "cell_type": "code",
   "execution_count": 418,
   "metadata": {},
   "outputs": [],
   "source": [
    "# import libraries\n",
    "import hashlib\n",
    "import random\n",
    "import string\n",
    "import json\n",
    "import binascii\n",
    "import datetime\n",
    "import collections"
   ]
  },
  {
   "cell_type": "code",
   "execution_count": 419,
   "metadata": {},
   "outputs": [],
   "source": [
    "import Crypto\n",
    "import Crypto.Random\n",
    "from Crypto.Hash import SHA\n",
    "from Crypto.PublicKey import RSA\n",
    "from Crypto.Signature import PKCS1_v1_5\n",
    "\n",
    "\n"
   ]
  },
  {
   "cell_type": "code",
   "execution_count": 420,
   "metadata": {},
   "outputs": [],
   "source": [
    "\n",
    "\n",
    "# Client Class generate the public and private keys\n",
    "class Client:\n",
    "    def __init__(self):\n",
    "        random=Crypto.Random.new().read\n",
    "        self._private_key=RSA.generate(1024,random)\n",
    "        self._public_key=self._private_key.publickey()\n",
    "        self._signer=PKCS1_v1_5.new(self._private_key)\n",
    "        \n",
    "# The generated public key will used as the client's identity  \n",
    "# it returns HEX representation of the public key\n",
    "\n",
    "    @property\n",
    "    def identity(self):\n",
    "        return binascii.hexlify(self._public_key.exportKey(format='DER')).decode('ascii')\n",
    "   "
   ]
  },
  {
   "cell_type": "code",
   "execution_count": 436,
   "metadata": {},
   "outputs": [
    {
     "name": "stdout",
     "output_type": "stream",
     "text": [
      "30819f300d06092a864886f70d010101050003818d0030818902818100f914786c4c35737304a06b8e1612230f708fd926fa57789ec18510886044690891093d42d989ae33b4e7bdea3fd1b14a6ec8b709639c425d93e767b0e9850cbd11917896a1122bbd822b24c17a33b2fa66bdbb230b4b221dab03edacbb16587cf20fb83fb6904f356800364f70c2a10f4695149141abfcf68135b2f19c72ee250203010001\n"
     ]
    }
   ],
   "source": [
    "# Creates an instance of Client and assigns it to the variable Kavindu. \n",
    "# We print the public key of Kavindu by calling its identity property\n",
    "Kavindu = Client()\n",
    "print (Kavindu.identity)\n"
   ]
  },
  {
   "cell_type": "code",
   "execution_count": 422,
   "metadata": {},
   "outputs": [],
   "source": [
    "#in Transaction class, client will be able to send money to somebody.\n",
    "transactions = []\n",
    "last_block_hash=\"\"\n",
    "\n",
    "class Transaction:\n",
    "\n",
    "    def __init__(self, sender,recipient, value):\n",
    "        # senders public key\n",
    "        self.sender=sender\n",
    "        \n",
    "        #Recivers public key\n",
    "        self.recipient=recipient\n",
    "        \n",
    "        # Amount to be sent\n",
    "        self.value=value\n",
    "        \n",
    "        # Time of Transaction\n",
    "        self.time=datetime.datetime.now()\n",
    "        \n",
    " # Combine all 4 variables to a dictionary object       \n",
    "    def to_dict(self):\n",
    "        if self.sender==\"Genesis\":\n",
    "            identity=\"Genesis\"\n",
    "            \n",
    "        else:\n",
    "            identity=self.sender.identity\n",
    "            \n",
    "       # Construct the dictionary     \n",
    "        return collections.OrderedDict({'sender': identity,'recipient': self.recipient,'value': self.value,'time' : self.time})\n",
    "        \n",
    "      # We sign the dictionary object using the private key of the sender  \n",
    "    def sign_transaction(self):\n",
    "        private_key = self.sender._private_key\n",
    "        signer = PKCS1_v1_5.new(private_key)\n",
    "        h = SHA.new(str(self.to_dict()).encode('utf8'))\n",
    "        \n",
    "        return binascii.hexlify(signer.sign(h)).decode('ascii')\n",
    "    \n",
    "    \n",
    "def display_transaction(transaction):\n",
    "         #for transaction in transactions:\n",
    "        dict = transaction.to_dict()\n",
    "        print (\"sender: \" + dict['sender'])\n",
    "        print ('-----')\n",
    "        print (\"recipient: \" + dict['recipient'])\n",
    "        print ('-----')\n",
    "        print (\"value: \" + str(dict['value']))\n",
    "        print ('-----')\n",
    "        print (\"time: \" + str(dict['time']))\n",
    "        print ('-----')\n",
    "        \n",
    "    \n",
    "    \n"
   ]
  },
  {
   "cell_type": "code",
   "execution_count": 423,
   "metadata": {},
   "outputs": [
    {
     "name": "stdout",
     "output_type": "stream",
     "text": [
      "622d0c47cca0b6b6476b91173ee47e8f57790d435181c965dd6d4b16dba6e54819dc0318731836cc5247f6e0aba3b557d0aefcc9f3ddfa03f8d9ba1fbacc8875d28cbc8620241f078c57f5dfeadd08bcbde169b61dfbbbfb6078549f9ba36687c9ed88ee89e647c1862f17558e276924a373040f42685d925bea9c4ca7740b9b\n"
     ]
    }
   ],
   "source": [
    "# Test Transaction class\n",
    "Lakshan = Client()\n",
    "indunil = Client()\n",
    "\n",
    "# Lakshan send 5 TPC coins to  indunil\n",
    "t = Transaction(Lakshan,indunil.identity,5.0)\n",
    "\n",
    "signature = t.sign_transaction()\n",
    "print (signature)"
   ]
  },
  {
   "cell_type": "code",
   "execution_count": 437,
   "metadata": {},
   "outputs": [],
   "source": [
    "\n",
    "Kavinda = Client()\n",
    "lakshan = Client()\n",
    "Indunil = Client()\n",
    "Dushan = Client()\n",
    "\n",
    "t1 = Transaction(Kavinda,Indunil.identity,15.0)\n",
    "t1.sign_transaction()\n",
    "transactions.append(t1)\n",
    "\n",
    "t2 = Transaction(Indunil,Dushan.identity,6.0)\n",
    "t2.sign_transaction()\n",
    "transactions.append(t2)\n",
    "\n",
    "t3 = Transaction(lakshan,Indunil.identity,2.0)\n",
    "t3.sign_transaction()\n",
    "transactions.append(t3)\n",
    "\n",
    "t4 = Transaction(lakshan,Dushan.identity,4.0)\n",
    "t4.sign_transaction()\n",
    "transactions.append(t4)\n",
    "\n",
    "t5 = Transaction(Kavinda,Dushan.identity,7.0)\n",
    "t5.sign_transaction()\n",
    "transactions.append(t5)\n",
    "\n"
   ]
  },
  {
   "cell_type": "code",
   "execution_count": 438,
   "metadata": {},
   "outputs": [
    {
     "name": "stdout",
     "output_type": "stream",
     "text": [
      "sender: 30819f300d06092a864886f70d010101050003818d0030818902818100b15cbb6869c70c4631243847b6c3d7fb776238775dcf87fa1c70015a955b3d9b7eb59470f58ce12c0ad5e84c9da327e80ecd2d9452e50c2de9019ff6e6a4c08d61e74458f0b2717bd92b4d50af624234816cddd3a5fc9aacff291e8dbfeda831c322ca86ef85a589d0cc94627849bdd21d385afd58e75769741343c8074bed6f0203010001\n",
      "-----\n",
      "recipient: 30819f300d06092a864886f70d010101050003818d00308189028181008d9bf49f340baa5c90013e39eedc77d6cf59e75361d1b181cd99d3a139bc61573905ae0c9a5cc1b2ba2233b5e606e2967b65f6d85eb87035ae6137d8b5fa1f854342e933ec4c236345fea03055904380e6c6bb00395c874135dfdef5dd5a7ba37d1f37287bd47df2673bcec42c89ad1f476b2d4cb14784502e4f5c5f444df3c30203010001\n",
      "-----\n",
      "value: 15.0\n",
      "-----\n",
      "time: 2020-03-31 20:32:14.291155\n",
      "-----\n",
      "--------------\n",
      "sender: 30819f300d06092a864886f70d010101050003818d0030818902818100b15cbb6869c70c4631243847b6c3d7fb776238775dcf87fa1c70015a955b3d9b7eb59470f58ce12c0ad5e84c9da327e80ecd2d9452e50c2de9019ff6e6a4c08d61e74458f0b2717bd92b4d50af624234816cddd3a5fc9aacff291e8dbfeda831c322ca86ef85a589d0cc94627849bdd21d385afd58e75769741343c8074bed6f0203010001\n",
      "-----\n",
      "recipient: 30819f300d06092a864886f70d010101050003818d003081890281810098896c72f50dcc7a5caf75218360c75c3ca437879b7f97a2be9c3b57a4556bc722c9b074276f0357cba76b0c0d98762ee1240971a8f9b1a7415698d2dccabb3bb50591912155a1bf4794921e51c6d8b467d56899d0ba29ec8c7c16f9bd08ac0c9f38e90f69fd86408691a1b5d5f146dee1611ad16344fa8628a183be739a0ccb0203010001\n",
      "-----\n",
      "value: 6.0\n",
      "-----\n",
      "time: 2020-03-31 20:32:14.293146\n",
      "-----\n",
      "--------------\n",
      "sender: 30819f300d06092a864886f70d010101050003818d00308189028181008d9bf49f340baa5c90013e39eedc77d6cf59e75361d1b181cd99d3a139bc61573905ae0c9a5cc1b2ba2233b5e606e2967b65f6d85eb87035ae6137d8b5fa1f854342e933ec4c236345fea03055904380e6c6bb00395c874135dfdef5dd5a7ba37d1f37287bd47df2673bcec42c89ad1f476b2d4cb14784502e4f5c5f444df3c30203010001\n",
      "-----\n",
      "recipient: 30819f300d06092a864886f70d010101050003818d00308189028181009f631b5023847e278fbef59384d862128021c87a0b96a8728998b000165ca0481c747c9a257d87d60bfa5d33e9fc4ec35d77b3a440567aa0fa681464662a6ff6c35b10eb8c64230614a08ee36ee938a046a3e505fea80c7d70c3765f1954c6eb32bc2249150251cb2e77e1a2bbdd010d87921d964aaa2b77e62e1a796ad383ab0203010001\n",
      "-----\n",
      "value: 2.0\n",
      "-----\n",
      "time: 2020-03-31 20:32:14.295141\n",
      "-----\n",
      "--------------\n",
      "sender: 30819f300d06092a864886f70d010101050003818d003081890281810098896c72f50dcc7a5caf75218360c75c3ca437879b7f97a2be9c3b57a4556bc722c9b074276f0357cba76b0c0d98762ee1240971a8f9b1a7415698d2dccabb3bb50591912155a1bf4794921e51c6d8b467d56899d0ba29ec8c7c16f9bd08ac0c9f38e90f69fd86408691a1b5d5f146dee1611ad16344fa8628a183be739a0ccb0203010001\n",
      "-----\n",
      "recipient: 30819f300d06092a864886f70d010101050003818d00308189028181008d9bf49f340baa5c90013e39eedc77d6cf59e75361d1b181cd99d3a139bc61573905ae0c9a5cc1b2ba2233b5e606e2967b65f6d85eb87035ae6137d8b5fa1f854342e933ec4c236345fea03055904380e6c6bb00395c874135dfdef5dd5a7ba37d1f37287bd47df2673bcec42c89ad1f476b2d4cb14784502e4f5c5f444df3c30203010001\n",
      "-----\n",
      "value: 4.0\n",
      "-----\n",
      "time: 2020-03-31 20:32:14.297135\n",
      "-----\n",
      "--------------\n",
      "sender: 30819f300d06092a864886f70d010101050003818d00308189028181009f631b5023847e278fbef59384d862128021c87a0b96a8728998b000165ca0481c747c9a257d87d60bfa5d33e9fc4ec35d77b3a440567aa0fa681464662a6ff6c35b10eb8c64230614a08ee36ee938a046a3e505fea80c7d70c3765f1954c6eb32bc2249150251cb2e77e1a2bbdd010d87921d964aaa2b77e62e1a796ad383ab0203010001\n",
      "-----\n",
      "recipient: 30819f300d06092a864886f70d010101050003818d003081890281810098896c72f50dcc7a5caf75218360c75c3ca437879b7f97a2be9c3b57a4556bc722c9b074276f0357cba76b0c0d98762ee1240971a8f9b1a7415698d2dccabb3bb50591912155a1bf4794921e51c6d8b467d56899d0ba29ec8c7c16f9bd08ac0c9f38e90f69fd86408691a1b5d5f146dee1611ad16344fa8628a183be739a0ccb0203010001\n",
      "-----\n",
      "value: 7.0\n",
      "-----\n",
      "time: 2020-03-31 20:32:14.299128\n",
      "-----\n",
      "--------------\n",
      "sender: 30819f300d06092a864886f70d010101050003818d0030818902818100dfe73b5130e453300f06d5fc526d4b5a5faa4d687ca24919b11a849dc381b6c5d486e0cc852d63361c45f09e48145e62a6026ed28b9632f6a396ea5bd983d5a8fa8049464230f8069c396f811ef8fcffe5d7f53af40e10d1ef60069d6d65217c13972ef49d0ee876a395808a4506f2690f9b97b149e5a02691cf813c8eff0ac50203010001\n",
      "-----\n",
      "recipient: 30819f300d06092a864886f70d010101050003818d0030818902818100c844a838f6610e613b9f9175749a829e56ed1dfdec0df451cdcccb63398906d82c2b00bc03504ae4a7d7f310755848ff8f99d566b6a2f74ee6351b151cd5aadb480ded71e771ef98a0abb3ad4715715100e8bff54c2bce7b7224c72c5b34d79cea8b95f215e0f3b62d5ed644c498ef1f1b4f4131b0b960b426c239e147b417370203010001\n",
      "-----\n",
      "value: 15.0\n",
      "-----\n",
      "time: 2020-03-31 23:10:53.747416\n",
      "-----\n",
      "--------------\n",
      "sender: 30819f300d06092a864886f70d010101050003818d0030818902818100c844a838f6610e613b9f9175749a829e56ed1dfdec0df451cdcccb63398906d82c2b00bc03504ae4a7d7f310755848ff8f99d566b6a2f74ee6351b151cd5aadb480ded71e771ef98a0abb3ad4715715100e8bff54c2bce7b7224c72c5b34d79cea8b95f215e0f3b62d5ed644c498ef1f1b4f4131b0b960b426c239e147b417370203010001\n",
      "-----\n",
      "recipient: 30819f300d06092a864886f70d010101050003818d0030818902818100baa5977dd5af4feaccd848c9de3ab5cb8e74255bcb6910282e4786201450c5484e64271e3fdaecc3d72552b4bdb4c560a4eb1cba190cbae8141c75c945c57688e14d3962ecb30a73b4fa864ad67a54ef42f1936cc6c0a3abf75f19cbbb2bf70b14ffb682cb4976f8cc7a1caf2d4044247730e03914225f7c76baabea9ecb8e050203010001\n",
      "-----\n",
      "value: 6.0\n",
      "-----\n",
      "time: 2020-03-31 23:10:53.750437\n",
      "-----\n",
      "--------------\n",
      "sender: 30819f300d06092a864886f70d010101050003818d0030818902818100f62670c63feb6dadd6fc73626ce06f42e7db0fe2c001351bd618629702aa3e1158e7e50a14cbb8de40b7d61fd34b20cf2c95e5b25bee5c06c13c730b833c0d5cef33d939a07d87fb8367cbf79e1c2fa0150aeaafcb590b22c13315b50418fb396cd9ac7d8a32380fe48fe26946419c9283beff013fe1ce9d857abe70a8ae61530203010001\n",
      "-----\n",
      "recipient: 30819f300d06092a864886f70d010101050003818d0030818902818100c844a838f6610e613b9f9175749a829e56ed1dfdec0df451cdcccb63398906d82c2b00bc03504ae4a7d7f310755848ff8f99d566b6a2f74ee6351b151cd5aadb480ded71e771ef98a0abb3ad4715715100e8bff54c2bce7b7224c72c5b34d79cea8b95f215e0f3b62d5ed644c498ef1f1b4f4131b0b960b426c239e147b417370203010001\n",
      "-----\n",
      "value: 2.0\n",
      "-----\n",
      "time: 2020-03-31 23:10:53.754397\n",
      "-----\n",
      "--------------\n",
      "sender: 30819f300d06092a864886f70d010101050003818d0030818902818100f62670c63feb6dadd6fc73626ce06f42e7db0fe2c001351bd618629702aa3e1158e7e50a14cbb8de40b7d61fd34b20cf2c95e5b25bee5c06c13c730b833c0d5cef33d939a07d87fb8367cbf79e1c2fa0150aeaafcb590b22c13315b50418fb396cd9ac7d8a32380fe48fe26946419c9283beff013fe1ce9d857abe70a8ae61530203010001\n",
      "-----\n",
      "recipient: 30819f300d06092a864886f70d010101050003818d0030818902818100baa5977dd5af4feaccd848c9de3ab5cb8e74255bcb6910282e4786201450c5484e64271e3fdaecc3d72552b4bdb4c560a4eb1cba190cbae8141c75c945c57688e14d3962ecb30a73b4fa864ad67a54ef42f1936cc6c0a3abf75f19cbbb2bf70b14ffb682cb4976f8cc7a1caf2d4044247730e03914225f7c76baabea9ecb8e050203010001\n",
      "-----\n",
      "value: 4.0\n",
      "-----\n",
      "time: 2020-03-31 23:10:53.756392\n",
      "-----\n",
      "--------------\n",
      "sender: 30819f300d06092a864886f70d010101050003818d0030818902818100dfe73b5130e453300f06d5fc526d4b5a5faa4d687ca24919b11a849dc381b6c5d486e0cc852d63361c45f09e48145e62a6026ed28b9632f6a396ea5bd983d5a8fa8049464230f8069c396f811ef8fcffe5d7f53af40e10d1ef60069d6d65217c13972ef49d0ee876a395808a4506f2690f9b97b149e5a02691cf813c8eff0ac50203010001\n",
      "-----\n",
      "recipient: 30819f300d06092a864886f70d010101050003818d0030818902818100baa5977dd5af4feaccd848c9de3ab5cb8e74255bcb6910282e4786201450c5484e64271e3fdaecc3d72552b4bdb4c560a4eb1cba190cbae8141c75c945c57688e14d3962ecb30a73b4fa864ad67a54ef42f1936cc6c0a3abf75f19cbbb2bf70b14ffb682cb4976f8cc7a1caf2d4044247730e03914225f7c76baabea9ecb8e050203010001\n",
      "-----\n",
      "value: 7.0\n",
      "-----\n",
      "time: 2020-03-31 23:10:53.759384\n",
      "-----\n",
      "--------------\n"
     ]
    }
   ],
   "source": [
    "\n",
    "for transaction in transactions:\n",
    "    display_transaction(transaction)\n",
    "    print ('--------------')"
   ]
  },
  {
   "cell_type": "code",
   "execution_count": 426,
   "metadata": {},
   "outputs": [],
   "source": [
    "class Block:\n",
    "    \n",
    "    def __init__(self):\n",
    "        self.verified_transaction=[]\n",
    "        self.previous_block_hash=\"\"\n",
    "        self.Nonce=\"\""
   ]
  },
  {
   "cell_type": "code",
   "execution_count": 427,
   "metadata": {},
   "outputs": [],
   "source": [
    "# Create a Client object \n",
    "Mahee=Client()\n",
    "\n",
    "# Create a transaction Object \n",
    "t0 = Transaction (\"Genesis\",Mahee.identity,500.0)\n",
    "\n",
    "# Create a block Object\n",
    "# Here we create a Genises Block \n",
    "block0=Block()\n",
    "block0.verified_transaction.append(t0)\n",
    "block0.previous_block_hash=None\n",
    "Nonce=None\n",
    "\n",
    "# Hash the entire block \n",
    "digest=hash(block0)\n",
    "\n",
    "# Assign the hashed value to variable last_block_hash\n",
    "last_block_hash=digest"
   ]
  },
  {
   "cell_type": "code",
   "execution_count": 428,
   "metadata": {},
   "outputs": [],
   "source": [
    "# TPCoins store the Blocks\n",
    "TPCoins=[]\n",
    "\n",
    "def dump_blockchain (self):\n",
    "    print (\"Number of blocks in the chain: \" + str(len (self)))\n",
    "    \n",
    "    for x in range (len(TPCoins)): # loop through the TPCoins array\n",
    "        \n",
    "        # assign each block in TPCoins to a temp variable block_temp\n",
    "        block_temp = TPCoins[x]  \n",
    "        print (\"block # \" + str(x))\n",
    "        \n",
    "        # display the transactions inside the block\n",
    "        for transaction in block_temp.verified_transaction:\n",
    "            display_transaction (transaction)\n",
    "            print ('--------------')\n",
    "            \n",
    "        print ('=====================================')              "
   ]
  },
  {
   "cell_type": "code",
   "execution_count": 429,
   "metadata": {},
   "outputs": [
    {
     "name": "stdout",
     "output_type": "stream",
     "text": [
      "Number of blocks in the chain: 1\n",
      "block # 0\n",
      "sender: Genesis\n",
      "-----\n",
      "recipient: 30819f300d06092a864886f70d010101050003818d0030818902818100d26e0d15882931198f8ca19fff62b2f51e96238974833b7918928e695fe433d15a41abb3c5b0a4b669f2b220a16f86413357b9bba0fc81e991ffcb8e282b140f6173a5563f64074898eefba29b3093a2eca878b16d978f137dd1eb27a1ccdaf292521a31332cac09566786e425cf5c85009bb7564fb65ee26342bd1b8696619d0203010001\n",
      "-----\n",
      "value: 500.0\n",
      "-----\n",
      "time: 2020-03-31 20:32:14.779778\n",
      "-----\n",
      "--------------\n",
      "=====================================\n"
     ]
    }
   ],
   "source": [
    "# Append the Genesis block to TPCoins \n",
    "TPCoins.append(block0)\n",
    "dump_blockchain(TPCoins)"
   ]
  },
  {
   "cell_type": "code",
   "execution_count": 430,
   "metadata": {},
   "outputs": [],
   "source": [
    "#Mining process\n",
    "#The sha256 function takes a message as a parameter, encodes it to ASCII, generates a hexadecimal digest and returns \n",
    "#the value to the caller.\n",
    "\n",
    "def sha256(message):\n",
    "    return hashlib.sha256(message.encode('ascii')).hexdigest()"
   ]
  },
  {
   "cell_type": "code",
   "execution_count": 431,
   "metadata": {},
   "outputs": [],
   "source": [
    "# Develop a Mine function\n",
    "# Here it tries to find the solution to that one NOnce that will satisfy the hash for the block\n",
    "# We send the block and the difficulty level as the parameters to the mine function.\n",
    "\n",
    "def mine(message,difficulty=1):\n",
    "    #The difficulty level needs to be greater or equal to 1, we ensure this with the following assert statement:\n",
    "    assert difficulty >= 1  \n",
    "    \n",
    "    #We create a prefix variable using the set difficulty level.\n",
    "    prefix = '1' * difficulty  \n",
    "    \n",
    "    for i in range(1000):\n",
    "        digest = sha256(str(hash(message)) + str(i)) \n",
    "        \n",
    "        if digest.startswith(prefix):\n",
    "            print (\"after \" + str(i) + \" iterations found nonce: \"+ digest)\n",
    "            return digest\n",
    "    "
   ]
  },
  {
   "cell_type": "code",
   "execution_count": 432,
   "metadata": {},
   "outputs": [
    {
     "name": "stdout",
     "output_type": "stream",
     "text": [
      "after 260 iterations found nonce: 116daa1738f66cf3a3c7b08df7bc47dc8e68ba11be7124b9dc45d47ba312efff\n"
     ]
    },
    {
     "data": {
      "text/plain": [
       "'116daa1738f66cf3a3c7b08df7bc47dc8e68ba11be7124b9dc45d47ba312efff'"
      ]
     },
     "execution_count": 432,
     "metadata": {},
     "output_type": "execute_result"
    }
   ],
   "source": [
    "# Test the mine function\n",
    "mine(\"test message\", 2)"
   ]
  },
  {
   "cell_type": "code",
   "execution_count": 433,
   "metadata": {},
   "outputs": [
    {
     "name": "stdout",
     "output_type": "stream",
     "text": [
      "after 162 iterations found nonce: 11b8535b312c5e80587eb2e2a8ff67ad66440b1aac34318fec9c49bdacbe67d4\n"
     ]
    }
   ],
   "source": [
    "#Miner 2 adds a block\n",
    "last_transaction_index=0\n",
    "block = Block()\n",
    "\n",
    "# append 3 transactions to block\n",
    "for i in range(3):\n",
    "    temp_transaction = transactions[last_transaction_index]\n",
    "    # validate transaction\n",
    "    # if valid\n",
    "    block.verified_transaction.append (temp_transaction)\n",
    "    last_transaction_index += 1\n",
    "    \n",
    "# Assign the value of last_block_hash to the previous_block_hash attribute in the block    \n",
    "block.previous_block_hash = last_block_hash\n",
    "\n",
    "# Send the block which has (Transactions + previous_bloc_hash) for the mine function \n",
    "block.Nonce = mine (block, 2)\n",
    "\n",
    "TPCoins.append (block)\n",
    "\n",
    "# Hased the currrent block and store its hashed value in the last_block_hash variable \n",
    "digest = hash (block)\n",
    "#print(\"Block hash of the current Block \"+ str(digest))\n",
    "last_block_hash = digest"
   ]
  },
  {
   "cell_type": "code",
   "execution_count": 434,
   "metadata": {},
   "outputs": [
    {
     "name": "stdout",
     "output_type": "stream",
     "text": [
      "Number of blocks in the chain: 2\n",
      "block # 0\n",
      "sender: Genesis\n",
      "-----\n",
      "recipient: 30819f300d06092a864886f70d010101050003818d0030818902818100d26e0d15882931198f8ca19fff62b2f51e96238974833b7918928e695fe433d15a41abb3c5b0a4b669f2b220a16f86413357b9bba0fc81e991ffcb8e282b140f6173a5563f64074898eefba29b3093a2eca878b16d978f137dd1eb27a1ccdaf292521a31332cac09566786e425cf5c85009bb7564fb65ee26342bd1b8696619d0203010001\n",
      "-----\n",
      "value: 500.0\n",
      "-----\n",
      "time: 2020-03-31 20:32:14.779778\n",
      "-----\n",
      "--------------\n",
      "=====================================\n",
      "block # 1\n",
      "sender: 30819f300d06092a864886f70d010101050003818d0030818902818100b15cbb6869c70c4631243847b6c3d7fb776238775dcf87fa1c70015a955b3d9b7eb59470f58ce12c0ad5e84c9da327e80ecd2d9452e50c2de9019ff6e6a4c08d61e74458f0b2717bd92b4d50af624234816cddd3a5fc9aacff291e8dbfeda831c322ca86ef85a589d0cc94627849bdd21d385afd58e75769741343c8074bed6f0203010001\n",
      "-----\n",
      "recipient: 30819f300d06092a864886f70d010101050003818d00308189028181008d9bf49f340baa5c90013e39eedc77d6cf59e75361d1b181cd99d3a139bc61573905ae0c9a5cc1b2ba2233b5e606e2967b65f6d85eb87035ae6137d8b5fa1f854342e933ec4c236345fea03055904380e6c6bb00395c874135dfdef5dd5a7ba37d1f37287bd47df2673bcec42c89ad1f476b2d4cb14784502e4f5c5f444df3c30203010001\n",
      "-----\n",
      "value: 15.0\n",
      "-----\n",
      "time: 2020-03-31 20:32:14.291155\n",
      "-----\n",
      "--------------\n",
      "sender: 30819f300d06092a864886f70d010101050003818d0030818902818100b15cbb6869c70c4631243847b6c3d7fb776238775dcf87fa1c70015a955b3d9b7eb59470f58ce12c0ad5e84c9da327e80ecd2d9452e50c2de9019ff6e6a4c08d61e74458f0b2717bd92b4d50af624234816cddd3a5fc9aacff291e8dbfeda831c322ca86ef85a589d0cc94627849bdd21d385afd58e75769741343c8074bed6f0203010001\n",
      "-----\n",
      "recipient: 30819f300d06092a864886f70d010101050003818d003081890281810098896c72f50dcc7a5caf75218360c75c3ca437879b7f97a2be9c3b57a4556bc722c9b074276f0357cba76b0c0d98762ee1240971a8f9b1a7415698d2dccabb3bb50591912155a1bf4794921e51c6d8b467d56899d0ba29ec8c7c16f9bd08ac0c9f38e90f69fd86408691a1b5d5f146dee1611ad16344fa8628a183be739a0ccb0203010001\n",
      "-----\n",
      "value: 6.0\n",
      "-----\n",
      "time: 2020-03-31 20:32:14.293146\n",
      "-----\n",
      "--------------\n",
      "sender: 30819f300d06092a864886f70d010101050003818d00308189028181008d9bf49f340baa5c90013e39eedc77d6cf59e75361d1b181cd99d3a139bc61573905ae0c9a5cc1b2ba2233b5e606e2967b65f6d85eb87035ae6137d8b5fa1f854342e933ec4c236345fea03055904380e6c6bb00395c874135dfdef5dd5a7ba37d1f37287bd47df2673bcec42c89ad1f476b2d4cb14784502e4f5c5f444df3c30203010001\n",
      "-----\n",
      "recipient: 30819f300d06092a864886f70d010101050003818d00308189028181009f631b5023847e278fbef59384d862128021c87a0b96a8728998b000165ca0481c747c9a257d87d60bfa5d33e9fc4ec35d77b3a440567aa0fa681464662a6ff6c35b10eb8c64230614a08ee36ee938a046a3e505fea80c7d70c3765f1954c6eb32bc2249150251cb2e77e1a2bbdd010d87921d964aaa2b77e62e1a796ad383ab0203010001\n",
      "-----\n",
      "value: 2.0\n",
      "-----\n",
      "time: 2020-03-31 20:32:14.295141\n",
      "-----\n",
      "--------------\n",
      "=====================================\n"
     ]
    }
   ],
   "source": [
    "dump_blockchain(TPCoins)"
   ]
  },
  {
   "cell_type": "code",
   "execution_count": null,
   "metadata": {},
   "outputs": [],
   "source": []
  }
 ],
 "metadata": {
  "kernelspec": {
   "display_name": "Python 3",
   "language": "python",
   "name": "python3"
  },
  "language_info": {
   "codemirror_mode": {
    "name": "ipython",
    "version": 3
   },
   "file_extension": ".py",
   "mimetype": "text/x-python",
   "name": "python",
   "nbconvert_exporter": "python",
   "pygments_lexer": "ipython3",
   "version": "3.6.7"
  },
  "toc": {
   "base_numbering": 1,
   "nav_menu": {},
   "number_sections": true,
   "sideBar": true,
   "skip_h1_title": false,
   "title_cell": "Table of Contents",
   "title_sidebar": "Contents",
   "toc_cell": false,
   "toc_position": {},
   "toc_section_display": true,
   "toc_window_display": false
  }
 },
 "nbformat": 4,
 "nbformat_minor": 2
}
